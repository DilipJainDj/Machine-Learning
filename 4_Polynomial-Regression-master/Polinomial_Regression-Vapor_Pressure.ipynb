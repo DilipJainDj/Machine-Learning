{
 "cells": [
  {
   "cell_type": "code",
   "execution_count": 1,
   "metadata": {},
   "outputs": [],
   "source": [
    "import numpy as np\n",
    "import matplotlib.pyplot as myPlot\n",
    "import pandas as pd"
   ]
  },
  {
   "cell_type": "code",
   "execution_count": 2,
   "metadata": {},
   "outputs": [
    {
     "data": {
      "text/html": [
       "<div>\n",
       "<style scoped>\n",
       "    .dataframe tbody tr th:only-of-type {\n",
       "        vertical-align: middle;\n",
       "    }\n",
       "\n",
       "    .dataframe tbody tr th {\n",
       "        vertical-align: top;\n",
       "    }\n",
       "\n",
       "    .dataframe thead th {\n",
       "        text-align: right;\n",
       "    }\n",
       "</style>\n",
       "<table border=\"1\" class=\"dataframe\">\n",
       "  <thead>\n",
       "    <tr style=\"text-align: right;\">\n",
       "      <th></th>\n",
       "      <th>Temperature</th>\n",
       "      <th>Vapor_Pressure</th>\n",
       "    </tr>\n",
       "  </thead>\n",
       "  <tbody>\n",
       "    <tr>\n",
       "      <th>0</th>\n",
       "      <td>273</td>\n",
       "      <td>4.7</td>\n",
       "    </tr>\n",
       "    <tr>\n",
       "      <th>1</th>\n",
       "      <td>283</td>\n",
       "      <td>9.3</td>\n",
       "    </tr>\n",
       "    <tr>\n",
       "      <th>2</th>\n",
       "      <td>293</td>\n",
       "      <td>17.6</td>\n",
       "    </tr>\n",
       "    <tr>\n",
       "      <th>3</th>\n",
       "      <td>303</td>\n",
       "      <td>31.7</td>\n",
       "    </tr>\n",
       "    <tr>\n",
       "      <th>4</th>\n",
       "      <td>313</td>\n",
       "      <td>55.2</td>\n",
       "    </tr>\n",
       "    <tr>\n",
       "      <th>5</th>\n",
       "      <td>323</td>\n",
       "      <td>92.7</td>\n",
       "    </tr>\n",
       "    <tr>\n",
       "      <th>6</th>\n",
       "      <td>333</td>\n",
       "      <td>149.2</td>\n",
       "    </tr>\n",
       "    <tr>\n",
       "      <th>7</th>\n",
       "      <td>343</td>\n",
       "      <td>233.7</td>\n",
       "    </tr>\n",
       "    <tr>\n",
       "      <th>8</th>\n",
       "      <td>353</td>\n",
       "      <td>355.2</td>\n",
       "    </tr>\n",
       "    <tr>\n",
       "      <th>9</th>\n",
       "      <td>363</td>\n",
       "      <td>525.6</td>\n",
       "    </tr>\n",
       "    <tr>\n",
       "      <th>10</th>\n",
       "      <td>373</td>\n",
       "      <td>760.0</td>\n",
       "    </tr>\n",
       "  </tbody>\n",
       "</table>\n",
       "</div>"
      ],
      "text/plain": [
       "    Temperature  Vapor_Pressure\n",
       "0           273             4.7\n",
       "1           283             9.3\n",
       "2           293            17.6\n",
       "3           303            31.7\n",
       "4           313            55.2\n",
       "5           323            92.7\n",
       "6           333           149.2\n",
       "7           343           233.7\n",
       "8           353           355.2\n",
       "9           363           525.6\n",
       "10          373           760.0"
      ]
     },
     "execution_count": 2,
     "metadata": {},
     "output_type": "execute_result"
    }
   ],
   "source": [
    "# Importing the dataset\n",
    "myData = pd.read_csv('Temperature_VaporPressure.csv')\n",
    "myData"
   ]
  },
  {
   "cell_type": "code",
   "execution_count": 3,
   "metadata": {},
   "outputs": [
    {
     "data": {
      "text/plain": [
       "array([[273],\n",
       "       [283],\n",
       "       [293],\n",
       "       [303],\n",
       "       [313],\n",
       "       [323],\n",
       "       [333],\n",
       "       [343],\n",
       "       [353],\n",
       "       [363],\n",
       "       [373]], dtype=int64)"
      ]
     },
     "execution_count": 3,
     "metadata": {},
     "output_type": "execute_result"
    }
   ],
   "source": [
    "X = myData.iloc[:, :1].values\n",
    "X"
   ]
  },
  {
   "cell_type": "code",
   "execution_count": 4,
   "metadata": {},
   "outputs": [
    {
     "data": {
      "text/plain": [
       "array([  4.7,   9.3,  17.6,  31.7,  55.2,  92.7, 149.2, 233.7, 355.2,\n",
       "       525.6, 760. ])"
      ]
     },
     "execution_count": 4,
     "metadata": {},
     "output_type": "execute_result"
    }
   ],
   "source": [
    "y = myData.iloc[:, 1].values\n",
    "y"
   ]
  },
  {
   "cell_type": "code",
   "execution_count": 5,
   "metadata": {
    "scrolled": true
   },
   "outputs": [
    {
     "data": {
      "image/png": "[encoded data removed]",
      "text/plain": [
       "<Figure size 432x288 with 1 Axes>"
      ]
     },
     "metadata": {},
     "output_type": "display_data"
    }
   ],
   "source": [
    "myPlot.scatter(X,y, color='b')\n",
    "myPlot.show()"
   ]
  },
  {
   "cell_type": "code",
   "execution_count": 6,
   "metadata": {},
   "outputs": [],
   "source": [
    "from sklearn.linear_model import LinearRegression"
   ]
  },
  {
   "cell_type": "code",
   "execution_count": 7,
   "metadata": {},
   "outputs": [],
   "source": [
    "myModel_linear = LinearRegression().fit(X,y)"
   ]
  },
  {
   "cell_type": "code",
   "execution_count": 8,
   "metadata": {},
   "outputs": [
    {
     "data": {
      "image/png": "[encoded data removed]",
      "text/plain": [
       "<Figure size 432x288 with 1 Axes>"
      ]
     },
     "metadata": {},
     "output_type": "display_data"
    }
   ],
   "source": [
    "myPlot.scatter(X,y, color='r')\n",
    "myPlot.plot(X,myModel_linear.predict(X), color='b')\n",
    "myPlot.show()"
   ]
  },
  {
   "cell_type": "code",
   "execution_count": 9,
   "metadata": {},
   "outputs": [
    {
     "data": {
      "image/png": "[encoded data removed]",
      "text/plain": [
       "<Figure size 432x288 with 1 Axes>"
      ]
     },
     "metadata": {},
     "output_type": "display_data"
    }
   ],
   "source": [
    "from scipy import stats as mystats\n",
    "res = myModel_linear.predict(X) -y\n",
    "mystats.probplot(res,plot=myPlot)\n",
    "myPlot.show()"
   ]
  },
  {
   "cell_type": "code",
   "execution_count": 10,
   "metadata": {},
   "outputs": [],
   "source": [
    "from sklearn.preprocessing import PolynomialFeatures"
   ]
  },
  {
   "cell_type": "code",
   "execution_count": 11,
   "metadata": {},
   "outputs": [
    {
     "data": {
      "text/plain": [
       "array([[1.00000e+00, 2.73000e+02, 7.45290e+04],\n",
       "       [1.00000e+00, 2.83000e+02, 8.00890e+04],\n",
       "       [1.00000e+00, 2.93000e+02, 8.58490e+04],\n",
       "       [1.00000e+00, 3.03000e+02, 9.18090e+04],\n",
       "       [1.00000e+00, 3.13000e+02, 9.79690e+04],\n",
       "       [1.00000e+00, 3.23000e+02, 1.04329e+05],\n",
       "       [1.00000e+00, 3.33000e+02, 1.10889e+05],\n",
       "       [1.00000e+00, 3.43000e+02, 1.17649e+05],\n",
       "       [1.00000e+00, 3.53000e+02, 1.24609e+05],\n",
       "       [1.00000e+00, 3.63000e+02, 1.31769e+05],\n",
       "       [1.00000e+00, 3.73000e+02, 1.39129e+05]])"
      ]
     },
     "execution_count": 11,
     "metadata": {},
     "output_type": "execute_result"
    }
   ],
   "source": [
    "X_poly = PolynomialFeatures(degree=2).fit_transform(X)\n",
    "X_poly"
   ]
  },
  {
   "cell_type": "code",
   "execution_count": 12,
   "metadata": {},
   "outputs": [],
   "source": [
    "myModel_poly = LinearRegression().fit(X_poly,y)"
   ]
  },
  {
   "cell_type": "code",
   "execution_count": 13,
   "metadata": {},
   "outputs": [
    {
     "data": {
      "image/png": "[encoded data removed]",
      "text/plain": [
       "<Figure size 432x288 with 1 Axes>"
      ]
     },
     "metadata": {},
     "output_type": "display_data"
    }
   ],
   "source": [
    "myPlot.scatter(X,y, color='r')\n",
    "myPlot.plot(X,myModel_poly.predict(X_poly), color='b')\n",
    "myPlot.show()"
   ]
  },
  {
   "cell_type": "code",
   "execution_count": 14,
   "metadata": {},
   "outputs": [
    {
     "data": {
      "text/plain": [
       "array([[1.00000000e+00, 2.73000000e+02, 7.45290000e+04, 2.03464170e+07,\n",
       "        5.55457184e+09],\n",
       "       [1.00000000e+00, 2.83000000e+02, 8.00890000e+04, 2.26651870e+07,\n",
       "        6.41424792e+09],\n",
       "       [1.00000000e+00, 2.93000000e+02, 8.58490000e+04, 2.51537570e+07,\n",
       "        7.37005080e+09],\n",
       "       [1.00000000e+00, 3.03000000e+02, 9.18090000e+04, 2.78181270e+07,\n",
       "        8.42889248e+09],\n",
       "       [1.00000000e+00, 3.13000000e+02, 9.79690000e+04, 3.06642970e+07,\n",
       "        9.59792496e+09],\n",
       "       [1.00000000e+00, 3.23000000e+02, 1.04329000e+05, 3.36982670e+07,\n",
       "        1.08845402e+10],\n",
       "       [1.00000000e+00, 3.33000000e+02, 1.10889000e+05, 3.69260370e+07,\n",
       "        1.22963703e+10],\n",
       "       [1.00000000e+00, 3.43000000e+02, 1.17649000e+05, 4.03536070e+07,\n",
       "        1.38412872e+10],\n",
       "       [1.00000000e+00, 3.53000000e+02, 1.24609000e+05, 4.39869770e+07,\n",
       "        1.55274029e+10],\n",
       "       [1.00000000e+00, 3.63000000e+02, 1.31769000e+05, 4.78321470e+07,\n",
       "        1.73630694e+10],\n",
       "       [1.00000000e+00, 3.73000000e+02, 1.39129000e+05, 5.18951170e+07,\n",
       "        1.93568786e+10]])"
      ]
     },
     "execution_count": 14,
     "metadata": {},
     "output_type": "execute_result"
    }
   ],
   "source": [
    "X_poly = PolynomialFeatures(degree=4)\n",
    "X_fet = X_poly.fit_transform(X)\n",
    "X_fet"
   ]
  },
  {
   "cell_type": "code",
   "execution_count": 15,
   "metadata": {},
   "outputs": [
    {
     "data": {
      "image/png": "[encoded data removed]",
      "text/plain": [
       "<Figure size 432x288 with 1 Axes>"
      ]
     },
     "metadata": {},
     "output_type": "display_data"
    }
   ],
   "source": [
    "myModel_poly = LinearRegression().fit(X_fet,y)\n",
    "myPlot.scatter(X,y, color='r')\n",
    "myPlot.plot(X,myModel_poly.predict(X_fet), color='b')\n",
    "myPlot.show()"
   ]
  },
  {
   "cell_type": "code",
   "execution_count": 16,
   "metadata": {},
   "outputs": [
    {
     "data": {
      "text/plain": [
       "array([[1.00000000e+00, 3.59000000e+02, 1.28881000e+05, 4.62682790e+07,\n",
       "        1.66103122e+10]])"
      ]
     },
     "execution_count": 16,
     "metadata": {},
     "output_type": "execute_result"
    }
   ],
   "source": [
    "X_poly.transform(359)"
   ]
  },
  {
   "cell_type": "code",
   "execution_count": 17,
   "metadata": {},
   "outputs": [
    {
     "data": {
      "text/plain": [
       "array([451.09817474])"
      ]
     },
     "execution_count": 17,
     "metadata": {},
     "output_type": "execute_result"
    }
   ],
   "source": [
    "myModel_poly.predict(X_poly.transform(359))"
   ]
  },
  {
   "cell_type": "code",
   "execution_count": null,
   "metadata": {},
   "outputs": [],
   "source": []
  }
 ],
 "metadata": {
  "kernelspec": {
   "display_name": "Python 3",
   "language": "python",
   "name": "python3"
  },
  "language_info": {
   "codemirror_mode": {
    "name": "ipython",
    "version": 3
   },
   "file_extension": ".py",
   "mimetype": "text/x-python",
   "name": "python",
   "nbconvert_exporter": "python",
   "pygments_lexer": "ipython3",
   "version": "3.6.4"
  }
 },
 "nbformat": 4,
 "nbformat_minor": 2
}
